{
 "cells": [
  {
   "cell_type": "markdown",
   "metadata": {},
   "source": [
    "Mental health chatbot's deep learning model using LSTM based architecture\n"
   ]
  },
  {
   "cell_type": "markdown",
   "metadata": {},
   "source": [
    "Importing Packages"
   ]
  },
  {
   "cell_type": "code",
   "execution_count": 1,
   "metadata": {},
   "outputs": [],
   "source": [
    "import json\n",
    "import pandas as pd\n",
    "import numpy as np\n",
    "from tensorflow.keras.preprocessing.text import Tokenizer\n",
    "from tensorflow.keras.preprocessing.sequence import pad_sequences\n",
    "from tensorflow.keras.models import Sequential\n",
    "from tensorflow.keras.layers import Embedding, LSTM, Dense, Dropout\n",
    "from sklearn.preprocessing import LabelEncoder\n",
    "from sklearn.model_selection import train_test_split\n",
    "import matplotlib.pyplot as plt\n",
    "import seaborn as sns\n",
    "import random\n",
    "import re "
   ]
  },
  {
   "cell_type": "markdown",
   "metadata": {},
   "source": [
    "Loading the dataset"
   ]
  },
  {
   "cell_type": "code",
   "execution_count": 2,
   "metadata": {},
   "outputs": [],
   "source": [
    "with open('data.json', 'r') as f:\n",
    "    data = json.load(f)"
   ]
  },
  {
   "cell_type": "code",
   "execution_count": 3,
   "metadata": {},
   "outputs": [],
   "source": [
    "df = pd.DataFrame(data['intents'])"
   ]
  },
  {
   "cell_type": "code",
   "execution_count": 4,
   "metadata": {},
   "outputs": [],
   "source": [
    "dic = {\"tag\":[], \"patterns\":[], \"responses\":[]}\n",
    "for i in range(len(df)):\n",
    "    ptrns = df[df.index == i]['patterns'].values[0]\n",
    "    rspns = df[df.index == i]['responses'].values[0]\n",
    "    tag = df[df.index == i]['tag'].values[0]\n",
    "    for j in range(len(ptrns)):\n",
    "        dic['tag'].append(tag)\n",
    "        dic['patterns'].append(ptrns[j])\n",
    "        dic['responses'].append(rspns)\n",
    "\n",
    "df = pd.DataFrame.from_dict(dic)"
   ]
  },
  {
   "cell_type": "markdown",
   "metadata": {},
   "source": [
    "Developing a function to preprocess the text data"
   ]
  },
  {
   "cell_type": "code",
   "execution_count": 5,
   "metadata": {},
   "outputs": [],
   "source": [
    "def preprocess(text):\n",
    "    text = text.lower()\n",
    "    text = re.sub(r'[^\\w\\s]','',text)\n",
    "    text = re.sub('\\s+',' ',text)\n",
    "    text = '[start]' + text + ' [end]'\n",
    "    return text"
   ]
  },
  {
   "cell_type": "code",
   "execution_count": 6,
   "metadata": {},
   "outputs": [],
   "source": [
    "X = df['patterns'].apply(preprocess)\n",
    "y = df['tag']"
   ]
  },
  {
   "cell_type": "markdown",
   "metadata": {},
   "source": [
    "Tokenizing the data to give a numeric value for model training"
   ]
  },
  {
   "cell_type": "code",
   "execution_count": 8,
   "metadata": {},
   "outputs": [],
   "source": [
    "tokenizer = Tokenizer()\n",
    "tokenizer.fit_on_texts(X)\n",
    "X_sequences = tokenizer.texts_to_sequences(X)\n",
    "word_index = tokenizer.word_index\n",
    "\n",
    "max_sequence_length = max([len(seq) for seq in X_sequences])\n",
    "X_padded = pad_sequences(X_sequences, maxlen=max_sequence_length)"
   ]
  },
  {
   "cell_type": "markdown",
   "metadata": {},
   "source": [
    "Label Encoding the target responses "
   ]
  },
  {
   "cell_type": "code",
   "execution_count": 9,
   "metadata": {},
   "outputs": [],
   "source": [
    "LE = LabelEncoder()\n",
    "y = LE.fit_transform(y)"
   ]
  },
  {
   "cell_type": "markdown",
   "metadata": {},
   "source": [
    "Performing Training and Testing split"
   ]
  },
  {
   "cell_type": "code",
   "execution_count": 10,
   "metadata": {},
   "outputs": [],
   "source": [
    "X_train, X_test, y_train, y_test = train_test_split(X_padded, y, test_size=0.2, random_state=42)"
   ]
  },
  {
   "cell_type": "markdown",
   "metadata": {},
   "source": [
    "LSTM based architecture"
   ]
  },
  {
   "cell_type": "code",
   "execution_count": 11,
   "metadata": {},
   "outputs": [],
   "source": [
    "model = Sequential()\n",
    "model.add(Embedding(input_dim=len(word_index) + 1, output_dim=128, input_length=max_sequence_length))\n",
    "model.add(LSTM(128, return_sequences=False))\n",
    "model.add(Dropout(0.3))\n",
    "model.add(Dense(len(LE.classes_), activation='softmax'))"
   ]
  },
  {
   "cell_type": "markdown",
   "metadata": {},
   "source": [
    "Model Parameters"
   ]
  },
  {
   "cell_type": "code",
   "execution_count": 12,
   "metadata": {},
   "outputs": [
    {
     "name": "stdout",
     "output_type": "stream",
     "text": [
      "Model: \"sequential\"\n",
      "_________________________________________________________________\n",
      " Layer (type)                Output Shape              Param #   \n",
      "=================================================================\n",
      " embedding (Embedding)       (None, 20, 128)           39040     \n",
      "                                                                 \n",
      " lstm (LSTM)                 (None, 128)               131584    \n",
      "                                                                 \n",
      " dropout (Dropout)           (None, 128)               0         \n",
      "                                                                 \n",
      " dense (Dense)               (None, 80)                10320     \n",
      "                                                                 \n",
      "=================================================================\n",
      "Total params: 180,944\n",
      "Trainable params: 180,944\n",
      "Non-trainable params: 0\n",
      "_________________________________________________________________\n"
     ]
    }
   ],
   "source": [
    "model.summary()"
   ]
  },
  {
   "cell_type": "markdown",
   "metadata": {},
   "source": [
    "Training the model"
   ]
  },
  {
   "cell_type": "code",
   "execution_count": 13,
   "metadata": {},
   "outputs": [],
   "source": [
    "model.compile(loss='sparse_categorical_crossentropy', optimizer='adam', metrics=['accuracy'])"
   ]
  },
  {
   "cell_type": "code",
   "execution_count": 15,
   "metadata": {},
   "outputs": [
    {
     "name": "stdout",
     "output_type": "stream",
     "text": [
      "Epoch 1/100\n",
      "6/6 [==============================] - 13s 407ms/step - loss: 4.3804 - accuracy: 0.0324 - val_loss: 4.3747 - val_accuracy: 0.0000e+00\n",
      "Epoch 2/100\n",
      "6/6 [==============================] - 0s 77ms/step - loss: 4.3493 - accuracy: 0.0595 - val_loss: 4.3552 - val_accuracy: 0.0000e+00\n",
      "Epoch 3/100\n",
      "6/6 [==============================] - 0s 61ms/step - loss: 4.2530 - accuracy: 0.0432 - val_loss: 4.3468 - val_accuracy: 0.0000e+00\n",
      "Epoch 4/100\n",
      "6/6 [==============================] - 0s 53ms/step - loss: 4.1110 - accuracy: 0.0649 - val_loss: 4.4205 - val_accuracy: 0.0213\n",
      "Epoch 5/100\n",
      "6/6 [==============================] - 0s 59ms/step - loss: 4.0524 - accuracy: 0.0541 - val_loss: 4.3106 - val_accuracy: 0.0213\n",
      "Epoch 6/100\n",
      "6/6 [==============================] - 0s 56ms/step - loss: 4.0341 - accuracy: 0.0486 - val_loss: 4.2705 - val_accuracy: 0.0213\n",
      "Epoch 7/100\n",
      "6/6 [==============================] - 0s 72ms/step - loss: 3.9528 - accuracy: 0.0757 - val_loss: 4.3255 - val_accuracy: 0.0213\n",
      "Epoch 8/100\n",
      "6/6 [==============================] - 0s 71ms/step - loss: 3.9197 - accuracy: 0.0649 - val_loss: 4.2690 - val_accuracy: 0.0213\n",
      "Epoch 9/100\n",
      "6/6 [==============================] - 0s 57ms/step - loss: 3.8391 - accuracy: 0.0757 - val_loss: 4.3296 - val_accuracy: 0.0426\n",
      "Epoch 10/100\n",
      "6/6 [==============================] - 0s 71ms/step - loss: 3.7169 - accuracy: 0.0973 - val_loss: 4.3379 - val_accuracy: 0.0426\n",
      "Epoch 11/100\n",
      "6/6 [==============================] - 0s 61ms/step - loss: 3.7427 - accuracy: 0.0757 - val_loss: 4.3269 - val_accuracy: 0.0426\n",
      "Epoch 12/100\n",
      "6/6 [==============================] - 0s 58ms/step - loss: 3.6751 - accuracy: 0.1081 - val_loss: 4.1956 - val_accuracy: 0.0213\n",
      "Epoch 13/100\n",
      "6/6 [==============================] - 0s 76ms/step - loss: 3.5867 - accuracy: 0.1243 - val_loss: 4.2177 - val_accuracy: 0.0213\n",
      "Epoch 14/100\n",
      "6/6 [==============================] - 0s 61ms/step - loss: 3.5256 - accuracy: 0.1838 - val_loss: 4.2270 - val_accuracy: 0.0426\n",
      "Epoch 15/100\n",
      "6/6 [==============================] - 0s 90ms/step - loss: 3.4522 - accuracy: 0.1784 - val_loss: 4.1773 - val_accuracy: 0.0213\n",
      "Epoch 16/100\n",
      "6/6 [==============================] - 0s 78ms/step - loss: 3.3584 - accuracy: 0.1784 - val_loss: 4.2077 - val_accuracy: 0.0426\n",
      "Epoch 17/100\n",
      "6/6 [==============================] - 0s 60ms/step - loss: 3.3200 - accuracy: 0.1784 - val_loss: 4.2058 - val_accuracy: 0.0213\n",
      "Epoch 18/100\n",
      "6/6 [==============================] - 0s 56ms/step - loss: 3.1545 - accuracy: 0.2216 - val_loss: 4.2266 - val_accuracy: 0.0426\n",
      "Epoch 19/100\n",
      "6/6 [==============================] - 0s 57ms/step - loss: 3.0610 - accuracy: 0.2108 - val_loss: 4.1668 - val_accuracy: 0.0213\n",
      "Epoch 20/100\n",
      "6/6 [==============================] - 1s 93ms/step - loss: 2.9758 - accuracy: 0.1946 - val_loss: 4.3101 - val_accuracy: 0.0213\n",
      "Epoch 21/100\n",
      "6/6 [==============================] - 0s 61ms/step - loss: 2.8690 - accuracy: 0.3081 - val_loss: 4.0515 - val_accuracy: 0.0638\n",
      "Epoch 22/100\n",
      "6/6 [==============================] - 0s 64ms/step - loss: 2.7545 - accuracy: 0.3351 - val_loss: 4.1392 - val_accuracy: 0.0426\n",
      "Epoch 23/100\n",
      "6/6 [==============================] - 0s 55ms/step - loss: 2.5459 - accuracy: 0.3784 - val_loss: 4.0962 - val_accuracy: 0.0638\n",
      "Epoch 24/100\n",
      "6/6 [==============================] - 0s 55ms/step - loss: 2.3339 - accuracy: 0.4324 - val_loss: 4.0135 - val_accuracy: 0.0638\n",
      "Epoch 25/100\n",
      "6/6 [==============================] - 0s 56ms/step - loss: 2.2595 - accuracy: 0.4541 - val_loss: 4.0754 - val_accuracy: 0.0851\n",
      "Epoch 26/100\n",
      "6/6 [==============================] - 0s 61ms/step - loss: 2.1099 - accuracy: 0.5081 - val_loss: 3.9651 - val_accuracy: 0.1064\n",
      "Epoch 27/100\n",
      "6/6 [==============================] - 0s 52ms/step - loss: 1.9672 - accuracy: 0.5622 - val_loss: 3.9215 - val_accuracy: 0.0851\n",
      "Epoch 28/100\n",
      "6/6 [==============================] - 0s 54ms/step - loss: 1.8427 - accuracy: 0.5892 - val_loss: 3.9241 - val_accuracy: 0.1277\n",
      "Epoch 29/100\n",
      "6/6 [==============================] - 0s 65ms/step - loss: 1.7143 - accuracy: 0.5784 - val_loss: 3.8598 - val_accuracy: 0.1064\n",
      "Epoch 30/100\n",
      "6/6 [==============================] - 0s 52ms/step - loss: 1.5938 - accuracy: 0.6757 - val_loss: 3.8827 - val_accuracy: 0.1702\n",
      "Epoch 31/100\n",
      "6/6 [==============================] - 0s 51ms/step - loss: 1.4625 - accuracy: 0.6919 - val_loss: 3.8976 - val_accuracy: 0.1489\n",
      "Epoch 32/100\n",
      "6/6 [==============================] - 0s 62ms/step - loss: 1.3168 - accuracy: 0.7622 - val_loss: 3.8220 - val_accuracy: 0.1915\n",
      "Epoch 33/100\n",
      "6/6 [==============================] - 0s 71ms/step - loss: 1.2468 - accuracy: 0.7622 - val_loss: 3.8623 - val_accuracy: 0.1702\n",
      "Epoch 34/100\n",
      "6/6 [==============================] - 0s 53ms/step - loss: 1.1597 - accuracy: 0.7946 - val_loss: 3.8395 - val_accuracy: 0.2128\n",
      "Epoch 35/100\n",
      "6/6 [==============================] - 0s 52ms/step - loss: 1.0238 - accuracy: 0.8054 - val_loss: 3.7313 - val_accuracy: 0.2553\n",
      "Epoch 36/100\n",
      "6/6 [==============================] - 0s 54ms/step - loss: 0.9245 - accuracy: 0.8270 - val_loss: 3.7650 - val_accuracy: 0.2340\n",
      "Epoch 37/100\n",
      "6/6 [==============================] - 0s 55ms/step - loss: 0.8723 - accuracy: 0.8108 - val_loss: 3.7924 - val_accuracy: 0.1915\n",
      "Epoch 38/100\n",
      "6/6 [==============================] - 0s 64ms/step - loss: 0.8267 - accuracy: 0.8486 - val_loss: 3.7280 - val_accuracy: 0.2766\n",
      "Epoch 39/100\n",
      "6/6 [==============================] - 0s 56ms/step - loss: 0.7006 - accuracy: 0.8973 - val_loss: 3.7947 - val_accuracy: 0.2553\n",
      "Epoch 40/100\n",
      "6/6 [==============================] - 0s 55ms/step - loss: 0.6150 - accuracy: 0.8973 - val_loss: 3.6962 - val_accuracy: 0.2766\n",
      "Epoch 41/100\n",
      "6/6 [==============================] - 0s 58ms/step - loss: 0.6016 - accuracy: 0.9189 - val_loss: 3.7530 - val_accuracy: 0.2553\n",
      "Epoch 42/100\n",
      "6/6 [==============================] - 0s 61ms/step - loss: 0.5170 - accuracy: 0.9297 - val_loss: 3.6854 - val_accuracy: 0.2979\n",
      "Epoch 43/100\n",
      "6/6 [==============================] - 0s 60ms/step - loss: 0.4941 - accuracy: 0.9189 - val_loss: 3.7145 - val_accuracy: 0.2553\n",
      "Epoch 44/100\n",
      "6/6 [==============================] - 0s 52ms/step - loss: 0.4619 - accuracy: 0.9459 - val_loss: 3.7635 - val_accuracy: 0.3191\n",
      "Epoch 45/100\n",
      "6/6 [==============================] - 0s 55ms/step - loss: 0.4052 - accuracy: 0.9676 - val_loss: 3.6480 - val_accuracy: 0.2766\n",
      "Epoch 46/100\n",
      "6/6 [==============================] - 0s 57ms/step - loss: 0.3751 - accuracy: 0.9784 - val_loss: 3.7381 - val_accuracy: 0.2979\n",
      "Epoch 47/100\n",
      "6/6 [==============================] - 0s 52ms/step - loss: 0.3748 - accuracy: 0.9622 - val_loss: 3.7065 - val_accuracy: 0.2979\n",
      "Epoch 48/100\n",
      "6/6 [==============================] - 0s 55ms/step - loss: 0.3128 - accuracy: 0.9946 - val_loss: 3.7261 - val_accuracy: 0.3191\n",
      "Epoch 49/100\n",
      "6/6 [==============================] - 0s 59ms/step - loss: 0.3272 - accuracy: 0.9784 - val_loss: 3.6979 - val_accuracy: 0.3404\n",
      "Epoch 50/100\n",
      "6/6 [==============================] - 0s 51ms/step - loss: 0.2935 - accuracy: 0.9784 - val_loss: 3.7225 - val_accuracy: 0.3191\n",
      "Epoch 51/100\n",
      "6/6 [==============================] - 0s 53ms/step - loss: 0.2738 - accuracy: 0.9784 - val_loss: 3.6960 - val_accuracy: 0.3404\n",
      "Epoch 52/100\n",
      "6/6 [==============================] - 0s 54ms/step - loss: 0.2628 - accuracy: 0.9838 - val_loss: 3.6452 - val_accuracy: 0.3617\n",
      "Epoch 53/100\n",
      "6/6 [==============================] - 0s 68ms/step - loss: 0.2489 - accuracy: 0.9730 - val_loss: 3.7605 - val_accuracy: 0.3191\n",
      "Epoch 54/100\n",
      "6/6 [==============================] - 0s 59ms/step - loss: 0.2476 - accuracy: 0.9730 - val_loss: 3.6327 - val_accuracy: 0.3617\n",
      "Epoch 55/100\n",
      "6/6 [==============================] - 0s 55ms/step - loss: 0.2133 - accuracy: 0.9838 - val_loss: 3.7696 - val_accuracy: 0.3617\n",
      "Epoch 56/100\n",
      "6/6 [==============================] - 0s 55ms/step - loss: 0.1896 - accuracy: 0.9838 - val_loss: 3.6859 - val_accuracy: 0.3617\n",
      "Epoch 57/100\n",
      "6/6 [==============================] - 0s 55ms/step - loss: 0.1966 - accuracy: 0.9892 - val_loss: 3.7703 - val_accuracy: 0.3617\n",
      "Epoch 58/100\n",
      "6/6 [==============================] - 0s 58ms/step - loss: 0.1887 - accuracy: 0.9730 - val_loss: 3.7599 - val_accuracy: 0.3404\n",
      "Epoch 59/100\n",
      "6/6 [==============================] - 0s 53ms/step - loss: 0.1680 - accuracy: 0.9892 - val_loss: 3.6768 - val_accuracy: 0.3830\n",
      "Epoch 60/100\n",
      "6/6 [==============================] - 0s 51ms/step - loss: 0.1600 - accuracy: 0.9892 - val_loss: 3.7521 - val_accuracy: 0.3404\n",
      "Epoch 61/100\n",
      "6/6 [==============================] - 0s 62ms/step - loss: 0.1527 - accuracy: 0.9838 - val_loss: 3.7484 - val_accuracy: 0.3617\n",
      "Epoch 62/100\n",
      "6/6 [==============================] - 0s 61ms/step - loss: 0.1448 - accuracy: 0.9892 - val_loss: 3.7521 - val_accuracy: 0.3617\n",
      "Epoch 63/100\n",
      "6/6 [==============================] - 0s 65ms/step - loss: 0.1472 - accuracy: 0.9838 - val_loss: 3.7238 - val_accuracy: 0.3617\n",
      "Epoch 64/100\n",
      "6/6 [==============================] - 0s 53ms/step - loss: 0.1486 - accuracy: 0.9838 - val_loss: 3.7291 - val_accuracy: 0.3830\n",
      "Epoch 65/100\n",
      "6/6 [==============================] - 0s 64ms/step - loss: 0.1317 - accuracy: 0.9838 - val_loss: 3.8541 - val_accuracy: 0.3617\n",
      "Epoch 66/100\n",
      "6/6 [==============================] - 0s 60ms/step - loss: 0.1217 - accuracy: 0.9892 - val_loss: 3.7204 - val_accuracy: 0.3830\n",
      "Epoch 67/100\n",
      "6/6 [==============================] - 0s 52ms/step - loss: 0.1168 - accuracy: 0.9892 - val_loss: 3.7302 - val_accuracy: 0.3830\n",
      "Epoch 68/100\n",
      "6/6 [==============================] - 0s 57ms/step - loss: 0.1137 - accuracy: 0.9892 - val_loss: 3.7863 - val_accuracy: 0.3617\n",
      "Epoch 69/100\n",
      "6/6 [==============================] - 0s 72ms/step - loss: 0.1076 - accuracy: 1.0000 - val_loss: 3.7944 - val_accuracy: 0.3617\n",
      "Epoch 70/100\n",
      "6/6 [==============================] - 0s 55ms/step - loss: 0.1076 - accuracy: 0.9892 - val_loss: 3.7808 - val_accuracy: 0.3830\n",
      "Epoch 71/100\n",
      "6/6 [==============================] - 0s 55ms/step - loss: 0.1025 - accuracy: 0.9892 - val_loss: 3.7901 - val_accuracy: 0.3617\n",
      "Epoch 72/100\n",
      "6/6 [==============================] - 0s 66ms/step - loss: 0.0987 - accuracy: 0.9946 - val_loss: 3.7979 - val_accuracy: 0.3830\n",
      "Epoch 73/100\n",
      "6/6 [==============================] - 0s 56ms/step - loss: 0.0947 - accuracy: 0.9838 - val_loss: 3.8034 - val_accuracy: 0.3830\n",
      "Epoch 74/100\n",
      "6/6 [==============================] - 0s 63ms/step - loss: 0.0947 - accuracy: 0.9892 - val_loss: 3.7898 - val_accuracy: 0.3617\n",
      "Epoch 75/100\n",
      "6/6 [==============================] - 0s 59ms/step - loss: 0.0942 - accuracy: 1.0000 - val_loss: 3.8519 - val_accuracy: 0.3617\n",
      "Epoch 76/100\n",
      "6/6 [==============================] - 0s 56ms/step - loss: 0.0799 - accuracy: 0.9892 - val_loss: 3.7970 - val_accuracy: 0.3830\n",
      "Epoch 77/100\n",
      "6/6 [==============================] - 0s 57ms/step - loss: 0.0787 - accuracy: 0.9946 - val_loss: 3.7713 - val_accuracy: 0.3830\n",
      "Epoch 78/100\n",
      "6/6 [==============================] - 0s 58ms/step - loss: 0.0854 - accuracy: 0.9946 - val_loss: 3.7749 - val_accuracy: 0.3617\n",
      "Epoch 79/100\n",
      "6/6 [==============================] - 0s 51ms/step - loss: 0.0822 - accuracy: 0.9892 - val_loss: 3.7683 - val_accuracy: 0.3830\n",
      "Epoch 80/100\n",
      "6/6 [==============================] - 0s 63ms/step - loss: 0.0726 - accuracy: 0.9892 - val_loss: 3.7878 - val_accuracy: 0.4043\n",
      "Epoch 81/100\n",
      "6/6 [==============================] - 0s 55ms/step - loss: 0.0752 - accuracy: 0.9946 - val_loss: 3.8521 - val_accuracy: 0.3830\n",
      "Epoch 82/100\n",
      "6/6 [==============================] - 0s 53ms/step - loss: 0.0698 - accuracy: 0.9946 - val_loss: 3.7999 - val_accuracy: 0.3617\n",
      "Epoch 83/100\n",
      "6/6 [==============================] - 0s 55ms/step - loss: 0.0693 - accuracy: 0.9946 - val_loss: 3.8132 - val_accuracy: 0.3617\n",
      "Epoch 84/100\n",
      "6/6 [==============================] - 0s 54ms/step - loss: 0.0702 - accuracy: 0.9946 - val_loss: 3.8783 - val_accuracy: 0.3830\n",
      "Epoch 85/100\n",
      "6/6 [==============================] - 0s 53ms/step - loss: 0.0628 - accuracy: 0.9946 - val_loss: 3.7907 - val_accuracy: 0.3617\n",
      "Epoch 86/100\n",
      "6/6 [==============================] - 0s 64ms/step - loss: 0.0665 - accuracy: 1.0000 - val_loss: 3.8179 - val_accuracy: 0.3830\n",
      "Epoch 87/100\n",
      "6/6 [==============================] - 0s 62ms/step - loss: 0.0640 - accuracy: 0.9946 - val_loss: 3.8149 - val_accuracy: 0.3830\n",
      "Epoch 88/100\n",
      "6/6 [==============================] - 0s 52ms/step - loss: 0.0567 - accuracy: 1.0000 - val_loss: 3.8204 - val_accuracy: 0.3617\n",
      "Epoch 89/100\n",
      "6/6 [==============================] - 0s 72ms/step - loss: 0.0599 - accuracy: 0.9946 - val_loss: 3.8650 - val_accuracy: 0.3830\n",
      "Epoch 90/100\n",
      "6/6 [==============================] - 0s 58ms/step - loss: 0.0565 - accuracy: 0.9946 - val_loss: 3.8041 - val_accuracy: 0.3830\n",
      "Epoch 91/100\n",
      "6/6 [==============================] - 0s 53ms/step - loss: 0.0555 - accuracy: 0.9946 - val_loss: 3.8315 - val_accuracy: 0.3830\n",
      "Epoch 92/100\n",
      "6/6 [==============================] - 0s 56ms/step - loss: 0.0513 - accuracy: 0.9946 - val_loss: 3.9081 - val_accuracy: 0.3404\n",
      "Epoch 93/100\n",
      "6/6 [==============================] - 0s 56ms/step - loss: 0.0569 - accuracy: 0.9892 - val_loss: 3.8737 - val_accuracy: 0.3830\n",
      "Epoch 94/100\n",
      "6/6 [==============================] - 0s 55ms/step - loss: 0.0431 - accuracy: 1.0000 - val_loss: 3.8663 - val_accuracy: 0.3617\n",
      "Epoch 95/100\n",
      "6/6 [==============================] - 0s 60ms/step - loss: 0.0423 - accuracy: 1.0000 - val_loss: 3.8867 - val_accuracy: 0.4043\n",
      "Epoch 96/100\n",
      "6/6 [==============================] - 0s 57ms/step - loss: 0.0403 - accuracy: 1.0000 - val_loss: 3.9141 - val_accuracy: 0.3830\n",
      "Epoch 97/100\n",
      "6/6 [==============================] - 0s 56ms/step - loss: 0.0444 - accuracy: 1.0000 - val_loss: 3.8746 - val_accuracy: 0.3617\n",
      "Epoch 98/100\n",
      "6/6 [==============================] - 0s 66ms/step - loss: 0.0406 - accuracy: 1.0000 - val_loss: 3.8781 - val_accuracy: 0.3617\n",
      "Epoch 99/100\n",
      "6/6 [==============================] - 0s 58ms/step - loss: 0.0420 - accuracy: 1.0000 - val_loss: 3.9296 - val_accuracy: 0.3830\n",
      "Epoch 100/100\n",
      "6/6 [==============================] - 0s 54ms/step - loss: 0.0459 - accuracy: 0.9946 - val_loss: 3.8862 - val_accuracy: 0.3830\n"
     ]
    }
   ],
   "source": [
    "history = model.fit(X_train, y_train, batch_size=32, epochs=100, validation_data=(X_test, y_test))"
   ]
  },
  {
   "cell_type": "code",
   "execution_count": 16,
   "metadata": {},
   "outputs": [
    {
     "data": {
      "image/png": "[encoded data removed]",
      "text/plain": [
       "<Figure size 1400x700 with 1 Axes>"
      ]
     },
     "metadata": {},
     "output_type": "display_data"
    }
   ],
   "source": [
    "\n",
    "acc = history.history['accuracy']\n",
    "val_acc = history.history['val_accuracy']\n",
    "epochs = range(len(acc))\n",
    "fig = plt.figure(figsize=(14,7))\n",
    "plt.plot(epochs,acc,'r',label=\"Training Accuracy\")\n",
    "plt.plot(epochs,val_acc,'b',label=\"Validation Accuracy\")\n",
    "plt.legend(loc='upper left')\n",
    "plt.show()"
   ]
  },
  {
   "cell_type": "markdown",
   "metadata": {},
   "source": [
    "A sample application of model that predicts the type of conversation and then responds to it with a predefined response"
   ]
  },
  {
   "cell_type": "code",
   "execution_count": 17,
   "metadata": {},
   "outputs": [
    {
     "name": "stdout",
     "output_type": "stream",
     "text": [
      "1/1 [==============================] - 1s 1s/step\n",
      "['name']\n",
      "Input: My name is XYZ\n",
      "Response: Nice to meet you. So tell me. How do you feel today?\n"
     ]
    }
   ],
   "source": [
    "def predict_response(model, tokenizer, label_encoder, input_text, max_sequence_length):\n",
    "    # Tokenize and pad the input text\n",
    "    input_seq = tokenizer.texts_to_sequences([input_text])\n",
    "    input_padded = pad_sequences(input_seq, maxlen=max_sequence_length)\n",
    "    \n",
    "    # Predict the response\n",
    "    predicted_prob = model.predict(input_padded)\n",
    "    predicted_label = np.argmax(predicted_prob, axis=1)\n",
    "    \n",
    "    # Decode the predicted label to the actual response\n",
    "    predicted_response = label_encoder.inverse_transform(predicted_label)\n",
    "    print(predicted_response)\n",
    "    return predicted_response[0]\n",
    "\n",
    "input_text = \"My name is XYZ\"\n",
    "predicted_response = predict_response(model, tokenizer, LE, input_text, max_sequence_length)\n",
    "print(f\"Input: {input_text}\")\n",
    "index = df.isin([predicted_response]).any(axis=1).idxmax()\n",
    "new_response = random.choice(df['responses'].loc[index])\n",
    "\n",
    "print(f\"Response: {new_response}\")\n"
   ]
  },
  {
   "cell_type": "code",
   "execution_count": 20,
   "metadata": {},
   "outputs": [
    {
     "name": "stdout",
     "output_type": "stream",
     "text": [
      "1/1 [==============================] - 0s 67ms/step\n",
      "['sad']\n",
      "Input: I am not feeling good\n",
      "Response: I'm sorry to hear that. I'm here for you. Talking about it might help. So, tell me why do you think you're feeling this way?\n"
     ]
    }
   ],
   "source": [
    "input_text = \"I am not feeling good\"\n",
    "predicted_response = predict_response(model, tokenizer, LE, input_text, max_sequence_length)\n",
    "print(f\"Input: {input_text}\")\n",
    "index = df.isin([predicted_response]).any(axis=1).idxmax()\n",
    "new_response = random.choice(df['responses'].loc[index])\n",
    "\n",
    "print(f\"Response: {new_response}\")"
   ]
  },
  {
   "cell_type": "code",
   "execution_count": null,
   "metadata": {},
   "outputs": [],
   "source": [
    "def showLab(texti):\n",
    "    Response_lab.config(text = texti)\n",
    "    inputTxt.delete(\"1.0\", \"end-1c\")\n",
    "\n",
    "def inputButton(event):\n",
    "    text = inputTxt.get(\"1.0\", \"end-1c\")\n",
    "    predicted_response = predict_response(model, tokenizer, LE, text, max_sequence_length)\n",
    "    index = df.isin([predicted_response]).any(axis=1).idxmax()\n",
    "    new_response = random.choice(df['responses'].loc[index])\n",
    "    showLab(new_response)"
   ]
  },
  {
   "cell_type": "code",
   "execution_count": null,
   "metadata": {},
   "outputs": [
    {
     "name": "stdout",
     "output_type": "stream",
     "text": [
      "1/1 [==============================] - 0s 29ms/step\n",
      "['greeting']\n",
      "1/1 [==============================] - 0s 29ms/step\n",
      "['happy']\n",
      "1/1 [==============================] - 0s 29ms/step\n",
      "['happy']\n",
      "1/1 [==============================] - 0s 28ms/step\n",
      "['sad']\n",
      "1/1 [==============================] - 0s 31ms/step\n",
      "['hate-you']\n",
      "1/1 [==============================] - 0s 28ms/step\n",
      "['no-approach']\n",
      "1/1 [==============================] - 0s 30ms/step\n",
      "['casual']\n",
      "1/1 [==============================] - 0s 29ms/step\n",
      "['no-response']\n"
     ]
    }
   ],
   "source": [
    "from tkinter import *\n",
    "\n",
    "root = Tk()\n",
    "root.geometry(\"600x400\")\n",
    "root.title(\"Chatbot Build 1\")\n",
    "\n",
    "\n",
    "\n",
    "#  3 Frames - title, Chats, TextInput\n",
    "titleFrame = Frame(root, bg = \"gray6\")\n",
    "chatsFrame = Frame(root, height=360, bg=\"gray9\")\n",
    "inputFrame = Frame(root, height=60)\n",
    "\n",
    "Response_lab = Label(chatsFrame, text=\" \", height=10, bg=\"gray9\", fg=\"yellow\", font='arial 14')\n",
    "\n",
    "# Title Frame and thier Components\n",
    "mainTitle = Label(titleFrame, text=\"The Chatbot\", font=\"Helvetic 20 bold\", bg=\"gray6\", fg=\"darkOrchid1\")\n",
    "mainTitle.pack()\n",
    "\n",
    "mainTitle = Label(titleFrame, text=\"How can I help You sir\", font=\"Helvetic 14 bold\", bg=\"gray6\", fg=\"orchid1\")\n",
    "mainTitle.pack()\n",
    "titleFrame.pack(fill=X)\n",
    "\n",
    "# Label(chatsFrame, text=\"lklnknckj\").pack()\n",
    "Response_lab.pack()\n",
    "chatsFrame.pack(fill=X)\n",
    "\n",
    "inputTxt = Text(inputFrame, height=60, font=\"Arial 13\", width=700, bg=\"gray12\", fg=\"plum1\")\n",
    "inputTxt.bind('<Return>', inputButton)\n",
    "inputTxt.pack()\n",
    "inputFrame.pack(fill=X, side=BOTTOM)\n",
    "\n",
    "root.mainloop()"
   ]
  },
  {
   "cell_type": "code",
   "execution_count": null,
   "metadata": {},
   "outputs": [],
   "source": [
    "model.save(r\"TheMainChatbot.h5\")"
   ]
  },
  {
   "cell_type": "code",
   "execution_count": null,
   "metadata": {},
   "outputs": [],
   "source": []
  }
 ],
 "metadata": {
  "kernelspec": {
   "display_name": "Python 3",
   "language": "python",
   "name": "python3"
  },
  "language_info": {
   "codemirror_mode": {
    "name": "ipython",
    "version": 3
   },
   "file_extension": ".py",
   "mimetype": "text/x-python",
   "name": "python",
   "nbconvert_exporter": "python",
   "pygments_lexer": "ipython3",
   "version": "3.10.0"
  }
 },
 "nbformat": 4,
 "nbformat_minor": 2
}
